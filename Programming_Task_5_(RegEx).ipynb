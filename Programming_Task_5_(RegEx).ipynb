{
  "nbformat": 4,
  "nbformat_minor": 0,
  "metadata": {
    "colab": {
      "provenance": []
    },
    "kernelspec": {
      "name": "python3",
      "display_name": "Python 3"
    },
    "language_info": {
      "name": "python"
    }
  },
  "cells": [
    {
      "cell_type": "markdown",
      "source": [
        "# Q.1"
      ],
      "metadata": {
        "id": "n2pqhZpVm_jI"
      }
    },
    {
      "cell_type": "code",
      "source": [
        "import re\n",
        "class Main():\n",
        "    def __init__(self):\n",
        "        self.n = int(input())\n",
        "        \n",
        "        for i in range(self.n):\n",
        "            self.s = input()\n",
        "            print(bool(re.match(r'^[-+]?[0-9]*\\.[0-9]+$', self.s)))\n",
        "if __name__ == '__main__':\n",
        "    obj = Main()"
      ],
      "metadata": {
        "colab": {
          "base_uri": "https://localhost:8080/"
        },
        "id": "bgmtfRWjnDpG",
        "outputId": "f4af3dea-607d-466d-e54d-889748a4f8e0"
      },
      "execution_count": null,
      "outputs": [
        {
          "output_type": "stream",
          "name": "stdout",
          "text": [
            "4\n",
            "4.0O0\n",
            "False\n",
            "-1.00\n",
            "True\n",
            "+4.54\n",
            "True\n",
            "SomeRandomStuff\n",
            "False\n"
          ]
        }
      ]
    },
    {
      "cell_type": "markdown",
      "source": [
        "# Q.2"
      ],
      "metadata": {
        "id": "2nbvf0Dlnn37"
      }
    },
    {
      "cell_type": "code",
      "source": [
        "import re\n",
        "regex_pattern = r\"[.,]+\"\t# Do not delete 'r'.\n",
        "print(\"\\n\".join(re.split(regex_pattern, input())))"
      ],
      "metadata": {
        "colab": {
          "base_uri": "https://localhost:8080/"
        },
        "id": "FEmVh0qAnEW7",
        "outputId": "e209651c-514c-4aea-8db8-79b2c251c459"
      },
      "execution_count": null,
      "outputs": [
        {
          "output_type": "stream",
          "name": "stdout",
          "text": [
            "100,000,000.000\n",
            "100\n",
            "000\n",
            "000\n",
            "000\n"
          ]
        }
      ]
    },
    {
      "cell_type": "markdown",
      "source": [
        "# Q.3"
      ],
      "metadata": {
        "id": "pVJSP4T5oM6C"
      }
    },
    {
      "cell_type": "code",
      "source": [
        "import re\n",
        "expression=r\"([a-zA-Z0-9])\\1+\"\n",
        "m = re.search(expression,input())\n",
        "if m:\n",
        "    print(m.group(1))\n",
        "else:\n",
        "    print(-1)"
      ],
      "metadata": {
        "colab": {
          "base_uri": "https://localhost:8080/"
        },
        "id": "9d5M0qynoG7z",
        "outputId": "803119ef-44ce-4d62-89f4-abb42b8ad51a"
      },
      "execution_count": null,
      "outputs": [
        {
          "output_type": "stream",
          "name": "stdout",
          "text": [
            "12345678910111213141516171820212223\n",
            "1\n"
          ]
        }
      ]
    },
    {
      "cell_type": "markdown",
      "source": [
        "# Q.4"
      ],
      "metadata": {
        "id": "YXJVENf2_MPx"
      }
    },
    {
      "cell_type": "code",
      "source": [
        "Storage = re.findall(r'(?<=[qwrtypsdfghjklzxcvbnm])([aeiou]{2,})(?=[qwrtypsdfghjklzxcvbnm])', input().strip(), re.IGNORECASE)\n",
        "if Storage:\n",
        "    for i in Storage:\n",
        "        print(i)\n",
        "else:\n",
        "    print(-1)"
      ],
      "metadata": {
        "colab": {
          "base_uri": "https://localhost:8080/"
        },
        "id": "XHmifnfC-6Vz",
        "outputId": "4a6414c7-68c1-46d7-e78b-506212e14362"
      },
      "execution_count": null,
      "outputs": [
        {
          "output_type": "stream",
          "name": "stdout",
          "text": [
            " Input (stdin)  Download rabcdeefgyYhFjkIoomnpOeorteeeeet\n",
            "oa\n",
            "ee\n",
            "Ioo\n",
            "Oeo\n",
            "eeeee\n"
          ]
        }
      ]
    },
    {
      "cell_type": "markdown",
      "source": [
        "# Q.5"
      ],
      "metadata": {
        "id": "GhwntljZAIdR"
      }
    },
    {
      "cell_type": "code",
      "source": [
        "import re\n",
        "S, k = input(), input()\n",
        "matches = re.finditer(r'(?=(' + k + '))', S)\n",
        "anymatch = False\n",
        "for match in matches:\n",
        "    anymatch = True\n",
        "    print((match.start(1), match.end(1) - 1))\n",
        "if anymatch == False:\n",
        "    print((-1, -1))"
      ],
      "metadata": {
        "colab": {
          "base_uri": "https://localhost:8080/"
        },
        "id": "Jq4L7rAf_vqP",
        "outputId": "1f9389f2-be2b-48c8-9d2f-b2489f019b24"
      },
      "execution_count": null,
      "outputs": [
        {
          "output_type": "stream",
          "name": "stdout",
          "text": [
            "aaadaa\n",
            "aa\n",
            "(0, 1)\n",
            "(1, 2)\n",
            "(4, 5)\n"
          ]
        }
      ]
    },
    {
      "cell_type": "markdown",
      "source": [
        "# Q.6"
      ],
      "metadata": {
        "id": "MBkFaAmTBkDp"
      }
    },
    {
      "cell_type": "code",
      "source": [
        "import re\n",
        "for i in range(int(input())):\n",
        "    s = re.sub(\"(?<=\\s)&&(?=\\s)\", \"and\", input())\n",
        "    print(re.sub(\"(?<=\\s)\\|\\|(?=\\s)\", \"or\", s))"
      ],
      "metadata": {
        "colab": {
          "base_uri": "https://localhost:8080/"
        },
        "id": "EGhgEN8tDno7",
        "outputId": "86532b0d-493f-44fe-fe84-c1b9e290466d"
      },
      "execution_count": null,
      "outputs": [
        {
          "output_type": "stream",
          "name": "stdout",
          "text": [
            "11\n",
            "a = 1;\n",
            "a = 1;\n",
            "b = input();\n",
            "b = input();\n",
            "\n",
            "\n",
            "if a + b > 0 && a - b < 0:\n",
            "if a + b > 0 and a - b < 0:\n",
            "start()\n",
            "start()\n",
            "elif a*b > 10 || a/b < 1:\n",
            "elif a*b > 10 or a/b < 1:\n",
            "stop()\n",
            "stop()\n",
            "print set(list(a)) | set(list(b))\n",
            "print set(list(a)) | set(list(b))\n",
            "#Note do not change &&& or ||| or & or |\n",
            "#Note do not change &&& or ||| or & or |\n",
            "#Only change those '&&' which have space on both sides.\n",
            "#Only change those '&&' which have space on both sides.\n",
            "#Only change those '|| which have space on both sides.\n",
            "#Only change those '|| which have space on both sides.\n"
          ]
        }
      ]
    },
    {
      "cell_type": "markdown",
      "source": [
        "# Q.7"
      ],
      "metadata": {
        "id": "UBGXUPZLE0z-"
      }
    },
    {
      "cell_type": "code",
      "source": [
        "thousand = 'M{0,3}'\n",
        "hundred = '(C[MD]|D?C{0,3})'\n",
        "ten = '(X[CL]|L?X{0,3})'\n",
        "digit = '(I[VX]|V?I{0,3})'\n",
        "regex_pattern = r\"%s%s%s%s$\" % (thousand, hundred, ten, digit)\n",
        "print(str(bool(re.match(regex_pattern, input()))))"
      ],
      "metadata": {
        "colab": {
          "base_uri": "https://localhost:8080/"
        },
        "id": "JgxjmwLUEXRl",
        "outputId": "31b4f865-655c-4ee1-f755-6380eacba8e8"
      },
      "execution_count": null,
      "outputs": [
        {
          "output_type": "stream",
          "name": "stdout",
          "text": [
            "CDXXI\n",
            "True\n"
          ]
        }
      ]
    },
    {
      "cell_type": "code",
      "source": [],
      "metadata": {
        "id": "hRvi8m41Ghws"
      },
      "execution_count": null,
      "outputs": []
    },
    {
      "cell_type": "markdown",
      "source": [
        "# Q.8"
      ],
      "metadata": {
        "id": "sgJZw0RJGkXp"
      }
    },
    {
      "cell_type": "code",
      "source": [
        "N = int(input())\n",
        "for i in range(N):\n",
        "    number = input()\n",
        "    if(len(number)==10 and number.isdigit()):\n",
        "        output = re.findall(r\"^[789]\\d{9}$\",number)\n",
        "        if(len(output)==1):\n",
        "            print(\"YES\")\n",
        "        else:\n",
        "            print(\"NO\")\n",
        "    else:\n",
        "        print(\"NO\")"
      ],
      "metadata": {
        "colab": {
          "base_uri": "https://localhost:8080/"
        },
        "id": "Ny65YvZeGljR",
        "outputId": "e24286ed-ad33-40d8-de62-14156ad426fe"
      },
      "execution_count": null,
      "outputs": [
        {
          "output_type": "stream",
          "name": "stdout",
          "text": [
            "2\n",
            "9587456281\n",
            "YES\n",
            "1252478965\n",
            "NO\n"
          ]
        }
      ]
    },
    {
      "cell_type": "markdown",
      "source": [
        "# Q.9"
      ],
      "metadata": {
        "id": "3UUbDbiqJZ6p"
      }
    },
    {
      "cell_type": "code",
      "source": [
        "n = int(input())\n",
        "for _ in range(n):\n",
        "    x, y = input().split(' ')\n",
        "    m = re.match(r'<[A-Za-z](\\w|-|\\.|_)+@[A-Za-z]+\\.[A-Za-z]{1,3}>', y)\n",
        "    if m:\n",
        "        print(x,y)"
      ],
      "metadata": {
        "colab": {
          "base_uri": "https://localhost:8080/"
        },
        "id": "v8nccqlCJVDT",
        "outputId": "3e749980-1653-4259-e3a7-7ed894d567d9"
      },
      "execution_count": null,
      "outputs": [
        {
          "name": "stdout",
          "output_type": "stream",
          "text": [
            "2\n",
            "DEXTER <dexter@hotmail.com>\n",
            "DEXTER <dexter@hotmail.com>\n",
            "VIRUS <virus!@variable.:p>\n"
          ]
        }
      ]
    },
    {
      "cell_type": "markdown",
      "source": [
        "# Q. 10"
      ],
      "metadata": {
        "id": "KYGKCJtJZk3p"
      }
    },
    {
      "cell_type": "code",
      "source": [
        "N = int(input())\n",
        "in_css = False\n",
        "for _ in range(N):\n",
        "    s = input()\n",
        "    if '{' in s:\n",
        "        in_css = True\n",
        "    elif '}' in s:\n",
        "        in_css = False\n",
        "    elif in_css:\n",
        "        for color in re.findall('#[0-9a-fA-F]{3,6}', s):\n",
        "            print(color)\n",
        "\n"
      ],
      "metadata": {
        "colab": {
          "base_uri": "https://localhost:8080/"
        },
        "id": "-yhO5mAiczWa",
        "outputId": "cf53de70-2411-4701-b525-4bb71ce943c8"
      },
      "execution_count": null,
      "outputs": [
        {
          "name": "stdout",
          "output_type": "stream",
          "text": [
            "11\n",
            "#BED\n",
            "{\n",
            "color: #FfFdF8; background-color:#aef;\n",
            "#FfFdF8\n",
            "#aef\n",
            "font-size: 123px;\n",
            "\n",
            "}\n",
            "#Cab\n",
            "{\n",
            "background-color: #ABC;\n",
            "#ABC\n",
            "border: 2px dashed #fff;\n",
            "#fff\n",
            "}\n"
          ]
        }
      ]
    },
    {
      "cell_type": "markdown",
      "source": [
        "# Q.11"
      ],
      "metadata": {
        "id": "4Hhc5Z69kO_Q"
      }
    },
    {
      "cell_type": "code",
      "source": [
        "from html.parser import HTMLParser\n",
        "class MyHTMLParser(HTMLParser):\n",
        "    def handle_starttag(self, tag, attrs):\n",
        "        print ('Start :', tag)\n",
        "        for ele in attrs:\n",
        "            print ('->', ele[0], '>', ele[1])\n",
        "\n",
        "    def handle_endtag(self, tag):\n",
        "        print ('End   :', tag)\n",
        "\n",
        "    def handle_startendtag(self, tag, attrs):\n",
        "        print ('Empty :', tag)\n",
        "        for ele in attrs:\n",
        "            print ('->', ele[0], '>', ele[1])\n",
        "\n",
        "parser = MyHTMLParser()\n",
        "for _ in range(int(input())):\n",
        "    parser.feed(input())"
      ],
      "metadata": {
        "colab": {
          "base_uri": "https://localhost:8080/"
        },
        "id": "eWsOn3N5dIJg",
        "outputId": "bfb140db-a945-45ce-f4a6-3a80500ef037"
      },
      "execution_count": null,
      "outputs": [
        {
          "output_type": "stream",
          "name": "stdout",
          "text": [
            "2\n",
            "<html><head><title>HTML Parser - I</title></head>\n",
            "Start : html\n",
            "Start : head\n",
            "Start : title\n",
            "End   : title\n",
            "End   : head\n",
            "<body data-modal-target class='1'><h1>HackerRank</h1><br /></body></html>\n",
            "Start : body\n",
            "-> data-modal-target > None\n",
            "-> class > 1\n",
            "Start : h1\n",
            "End   : h1\n",
            "Empty : br\n",
            "End   : body\n",
            "End   : html\n"
          ]
        }
      ]
    },
    {
      "cell_type": "markdown",
      "source": [
        "# Q. 12"
      ],
      "metadata": {
        "id": "jI9_BR38lhWu"
      }
    },
    {
      "cell_type": "code",
      "source": [
        "from html.parser import HTMLParser\n",
        "\n",
        "class MyHTMLParser(HTMLParser):\n",
        "    def handle_comment(self, data):\n",
        "        if '\\n' not in data:\n",
        "            print('>>> Single-line Comment')\n",
        "            print(data)\n",
        "        elif '\\n' in data:\n",
        "            print('>>> Multi-line Comment')\n",
        "            print(data)\n",
        "    def handle_data(self, data):\n",
        "        if data != '\\n':\n",
        "            print('>>> Data')\n",
        "            print(data)\n",
        "html = \"\"       \n",
        "for i in range(int(input())):\n",
        "    html += input().rstrip()\n",
        "    html += '\\n'\n",
        "    \n",
        "parser = MyHTMLParser()\n",
        "parser.feed(html)\n",
        "parser.close()"
      ],
      "metadata": {
        "colab": {
          "base_uri": "https://localhost:8080/"
        },
        "id": "Mbpo_aM-k8gH",
        "outputId": "bb12112a-4b0e-44c1-cf25-7cacf93843a5"
      },
      "execution_count": null,
      "outputs": [
        {
          "output_type": "stream",
          "name": "stdout",
          "text": [
            "4\n",
            "<!--[if IE 9]>IE9-specific content\n",
            "<![endif]-->\n",
            "<![endif]-->\n",
            "<!--[if IE 9]>IE9-specific content<![endif]-->\n",
            ">>> Multi-line Comment\n",
            "[if IE 9]>IE9-specific content\n",
            "<![endif]\n",
            ">>> Data\n",
            "IE9-specific content\n",
            ">>> Data\n",
            "<![endif]-->\n"
          ]
        }
      ]
    },
    {
      "cell_type": "markdown",
      "source": [
        "# Q.13"
      ],
      "metadata": {
        "id": "9kua0VS-p6pa"
      }
    },
    {
      "cell_type": "code",
      "source": [
        "from html.parser import HTMLParser\n",
        "\n",
        "class MyHTMLParser(HTMLParser):\n",
        "    def handle_starttag(self, tag, attrs):\n",
        "        print(tag)\n",
        "        for attr, value in attrs:\n",
        "            print(\"->\", attr, \">\", value)\n",
        "\n",
        "    def handle_startendtag(self, tag, attrs):\n",
        "        print(tag)\n",
        "        for attr, value in attrs:\n",
        "            print(\"->\", attr, \">\", value)\n",
        "\n",
        "html = ''\n",
        "for _ in range(int(input())):\n",
        "    html += input().rstrip() + '\\n'\n",
        "parser = MyHTMLParser()\n",
        "parser.feed(html)\n",
        "parser.close()"
      ],
      "metadata": {
        "colab": {
          "base_uri": "https://localhost:8080/"
        },
        "id": "ir45nr-kplV9",
        "outputId": "575842a8-994e-48ca-a819-530ee7b984a9"
      },
      "execution_count": null,
      "outputs": [
        {
          "output_type": "stream",
          "name": "stdout",
          "text": [
            "9\n",
            "<head>\n",
            "<title>HTML</title>\n",
            "</head>\n",
            "<object type=\"application/x-flash\"\n",
            "data=\"your-file.swf\"\n",
            "width=\"0\" height=\"0\">\n",
            "<!-- <param name=\"movie\" value=\"your-file.swf\" /> -->\n",
            "<param name=\"quality\" value=\"high\"/>\n",
            "</object>\n",
            "head\n",
            "title\n",
            "object\n",
            "-> type > application/x-flash\n",
            "-> data > your-file.swf\n",
            "-> width > 0\n",
            "-> height > 0\n",
            "param\n",
            "-> name > quality\n",
            "-> value > high\n"
          ]
        }
      ]
    },
    {
      "cell_type": "markdown",
      "source": [
        "# Q.14"
      ],
      "metadata": {
        "id": "pheVXi3arxyZ"
      }
    },
    {
      "cell_type": "code",
      "source": [
        "for i in range(int(input())):\n",
        "    N = input().strip()\n",
        "    if N.isalnum() and len(N) == 10:\n",
        "        if bool(re.search(r'(.*[A-Z]){2,}',N)) and bool(re.search(r'(.*[0-9]){3,}',N)):\n",
        "            if re.search(r'.*(.).*\\1+.*',N):\n",
        "                print('Invalid')\n",
        "            else:\n",
        "                print('Valid')\n",
        "        else:\n",
        "            print('Invalid')\n",
        "    else:\n",
        "        print('Invalid')"
      ],
      "metadata": {
        "colab": {
          "base_uri": "https://localhost:8080/"
        },
        "id": "bG0OuEbArF3r",
        "outputId": "4651d4f4-1c29-4f4d-e0a4-a085233046e2"
      },
      "execution_count": null,
      "outputs": [
        {
          "output_type": "stream",
          "name": "stdout",
          "text": [
            "2\n",
            "B1CD102354\n",
            "Invalid\n",
            "B1CDEF2354\n",
            "Valid\n"
          ]
        }
      ]
    },
    {
      "cell_type": "markdown",
      "source": [
        "# Q.15"
      ],
      "metadata": {
        "id": "V-kfEHpovHvg"
      }
    },
    {
      "cell_type": "code",
      "source": [
        "for i in range(int(input())):\n",
        "    text = input()\n",
        "    pattern = re.compile(r\"^([456][\\d+]{3})-([\\d+]{4})-([\\d+]{4})-([\\d+]{4})$|^([456][\\d+]{15})$\")\n",
        "\n",
        "    if pattern.match(text):\n",
        "        text = ''.join([i for i in text if i != '-'])\n",
        "        if all([False if i*4 in text  else True for i in set(text)]):\n",
        "            print(\"Valid\")\n",
        "        else:\n",
        "            print(\"Invalid\")\n",
        "    else:\n",
        "        print(\"Invalid\")"
      ],
      "metadata": {
        "colab": {
          "base_uri": "https://localhost:8080/"
        },
        "id": "Pk7wvDwzsp1B",
        "outputId": "ebd8039c-38ac-4c05-f669-62b93cfa96f8"
      },
      "execution_count": null,
      "outputs": [
        {
          "output_type": "stream",
          "name": "stdout",
          "text": [
            "6\n",
            "4123456789123456\n",
            "Valid\n",
            "5123-4567-8912-3456\n",
            "Valid\n",
            "61234-567-8912-3456\n",
            "Invalid\n",
            "4123356789123456\n",
            "Valid\n",
            "5133-3367-8912-3456\n",
            "Invalid\n",
            "5123 - 3567 - 8912 - 3456\n",
            "Invalid\n"
          ]
        }
      ]
    },
    {
      "cell_type": "markdown",
      "source": [
        "# Q.16"
      ],
      "metadata": {
        "id": "8Mz4UW3Yxalp"
      }
    },
    {
      "cell_type": "code",
      "source": [
        "regex_integer_in_range = r\"^([1-9][0-9]{5})$\"\n",
        "regex_alternating_repetitive_digit_pair = r\"(?=(\\d)\\d\\1)\"\n",
        "P = input()\n",
        "print (bool(re.match(regex_integer_in_range, P)) \n",
        "and len(re.findall(regex_alternating_repetitive_digit_pair, P)) < 2)"
      ],
      "metadata": {
        "colab": {
          "base_uri": "https://localhost:8080/"
        },
        "id": "udn-QKlYvM0q",
        "outputId": "379f138e-ecf1-41eb-f26f-a4dad6f0edea"
      },
      "execution_count": null,
      "outputs": [
        {
          "output_type": "stream",
          "name": "stdout",
          "text": [
            "110000\n",
            "False\n"
          ]
        }
      ]
    },
    {
      "cell_type": "markdown",
      "source": [
        "# Q.17"
      ],
      "metadata": {
        "id": "XdzmruVWyJUp"
      }
    },
    {
      "cell_type": "code",
      "source": [
        "import math\n",
        "import os\n",
        "import random\n",
        "import re\n",
        "import sys\n",
        "first_multiple_input = input().rstrip().split()\n",
        "n = int(first_multiple_input[0])\n",
        "m = int(first_multiple_input[1])\n",
        "matrix = []\n",
        "for _ in range(n):\n",
        "    matrix_item = input()\n",
        "    matrix.append(matrix_item)\n",
        "matrix = list(zip(*matrix))\n",
        "sample = str()\n",
        "for words in matrix:\n",
        "    for char in words:\n",
        "        sample += char\n",
        "print(re.sub(r'(?<=\\w)([^\\w\\d]+)(?=\\w)', ' ', sample))"
      ],
      "metadata": {
        "colab": {
          "base_uri": "https://localhost:8080/"
        },
        "id": "wY_FTM_UyMUm",
        "outputId": "4085b454-f10b-4c89-aa42-45848aeec2d6"
      },
      "execution_count": null,
      "outputs": [
        {
          "output_type": "stream",
          "name": "stdout",
          "text": [
            "7 3\n",
            "Tsi\n",
            "h%x\n",
            "i #\n",
            "sM\n",
            "$a\n",
            "#t%\n",
            "ir!\n",
            "This is Matr\n"
          ]
        }
      ]
    }
  ]
}