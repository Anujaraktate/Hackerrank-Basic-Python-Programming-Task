{
  "nbformat": 4,
  "nbformat_minor": 0,
  "metadata": {
    "colab": {
      "provenance": [],
      "collapsed_sections": [
        "vdl1wNqLWARe",
        "NnPQZo-CWZTZ",
        "rZo702YdW2ID",
        "S1euJv7NXvhV",
        "Nsx27XKTYQtk",
        "rlWkTI5ucSee",
        "R_US6JaNd4j3",
        "LCLbbDPOevDL",
        "MEj31tJufEdT"
      ]
    },
    "kernelspec": {
      "name": "python3",
      "display_name": "Python 3"
    },
    "language_info": {
      "name": "python"
    }
  },
  "cells": [
    {
      "cell_type": "markdown",
      "source": [
        "# Q.1"
      ],
      "metadata": {
        "id": "vdl1wNqLWARe"
      }
    },
    {
      "cell_type": "code",
      "source": [
        "if __name__ == '__main__':\n",
        "    x = int(input())\n",
        "    y = int(input())\n",
        "    z = int(input())\n",
        "    n = int(input())\n",
        "newlist = []\n",
        "for i in range(x+1):\n",
        "  for j in range(y+1):\n",
        "    for k in range(z+1):\n",
        "      if (i+j+k) != n:\n",
        "        newlist.append([i,j,k])\n",
        "print(newlist)"
      ],
      "metadata": {
        "colab": {
          "base_uri": "https://localhost:8080/"
        },
        "id": "lu4dtLhIWESl",
        "outputId": "7fe3c384-e470-4ce9-9d5d-34d55db8eeb0"
      },
      "execution_count": null,
      "outputs": [
        {
          "output_type": "stream",
          "name": "stdout",
          "text": [
            "1\n",
            "1\n",
            "1\n",
            "2\n",
            "[[0, 0, 0], [0, 0, 1], [0, 1, 0], [1, 0, 0], [1, 1, 1]]\n"
          ]
        }
      ]
    },
    {
      "cell_type": "markdown",
      "source": [
        "# Q.2 "
      ],
      "metadata": {
        "id": "NnPQZo-CWZTZ"
      }
    },
    {
      "cell_type": "code",
      "source": [
        "if __name__ == '__main__':\n",
        "    n = int(input())\n",
        "    arr = set(map(int, input().split()))\n",
        "arr.remove(max(arr))\n",
        "print (max(arr))"
      ],
      "metadata": {
        "colab": {
          "base_uri": "https://localhost:8080/"
        },
        "id": "Zdy_ZoQtWLNl",
        "outputId": "48e46303-e678-4f7c-b13a-2ef2458b4a16"
      },
      "execution_count": null,
      "outputs": [
        {
          "output_type": "stream",
          "name": "stdout",
          "text": [
            "5\n",
            "2 3 6 6 5\n",
            "5\n"
          ]
        }
      ]
    },
    {
      "cell_type": "markdown",
      "source": [
        "# Q.3"
      ],
      "metadata": {
        "id": "rZo702YdW2ID"
      }
    },
    {
      "cell_type": "code",
      "source": [
        "if __name__ == '__main__':\n",
        "    students_grade=[]\n",
        "    for _ in range(int(input())):\n",
        "        name = input()\n",
        "        score = float(input())\n",
        "        students_grade.append([name,score])\n",
        "    sorted_scores = sorted(list(set([x[1] for x in students_grade])))\n",
        "    second_lowest = sorted_scores[1]\n",
        "    low_final_list =[]\n",
        "    for student in students_grade:\n",
        "        if second_lowest == student[1]:\n",
        "            low_final_list.append(student[0])\n",
        "    for student in sorted(low_final_list):\n",
        "        print(student)"
      ],
      "metadata": {
        "colab": {
          "base_uri": "https://localhost:8080/"
        },
        "id": "Hw5GBnU0Wj00",
        "outputId": "c01d98b9-3d0f-4f19-8ad3-fe397ad59bb4"
      },
      "execution_count": null,
      "outputs": [
        {
          "output_type": "stream",
          "name": "stdout",
          "text": [
            "4\n",
            "Prashant\n",
            "32\n",
            "Pallavi \n",
            "36\n",
            "Dheeraj\n",
            "39\n",
            "Shivam\n",
            "40\n",
            "Pallavi \n"
          ]
        }
      ]
    },
    {
      "cell_type": "markdown",
      "source": [
        "# Q.4"
      ],
      "metadata": {
        "id": "S1euJv7NXvhV"
      }
    },
    {
      "cell_type": "code",
      "source": [
        "if __name__ == '__main__':\n",
        "    n = int(input())\n",
        "    x = [input().split() for i in range(n)]\n",
        "    c = input()\n",
        "    d = {}\n",
        "    for i in range(n):\n",
        "        d[x[i][0]] = list(map(float,x[i][1:]))\n",
        "    print(f'{sum(d[c])/len(d[c]):.2f}')     "
      ],
      "metadata": {
        "colab": {
          "base_uri": "https://localhost:8080/"
        },
        "id": "5S-aqFVFWya8",
        "outputId": "59ed4249-be0c-441d-bbbb-33c83ba9f083"
      },
      "execution_count": null,
      "outputs": [
        {
          "output_type": "stream",
          "name": "stdout",
          "text": [
            "3\n",
            "Krishna 67 68 69\n",
            "Arjun 70 98 63\n",
            "Malika 52 56 60\n",
            "Malika\n",
            "56.00\n"
          ]
        }
      ]
    },
    {
      "cell_type": "markdown",
      "source": [
        "# Q.5"
      ],
      "metadata": {
        "id": "Nsx27XKTYQtk"
      }
    },
    {
      "cell_type": "code",
      "source": [
        "if __name__ == '__main__':\n",
        "    N = int(input())\n",
        "    lst = []\n",
        "    for _ in range(N):\n",
        "        func, *args = input().split()\n",
        "        if func != 'print':\n",
        "            getattr(lst, func)(*map(int, args))\n",
        "        else:\n",
        "            print(lst)"
      ],
      "metadata": {
        "colab": {
          "base_uri": "https://localhost:8080/"
        },
        "id": "Dns3IAnRX2JM",
        "outputId": "d207883d-b43c-4ef7-fa19-e91ea3de4504"
      },
      "execution_count": null,
      "outputs": [
        {
          "output_type": "stream",
          "name": "stdout",
          "text": [
            "12\n",
            "insert 0 5\n",
            "insert 1 10\n",
            "insert 0 6\n",
            "print\n",
            "[6, 5, 10]\n",
            "remove 6\n",
            "append 9\n",
            "append 1\n",
            "sort\n",
            "print\n",
            "[1, 5, 9, 10]\n",
            "pop\n",
            "reverse\n",
            "print\n",
            "[9, 5, 1]\n"
          ]
        }
      ]
    },
    {
      "cell_type": "markdown",
      "source": [
        "# Q.6\n"
      ],
      "metadata": {
        "id": "rlWkTI5ucSee"
      }
    },
    {
      "cell_type": "code",
      "source": [
        "# From the discussion section: \"THE TEST is for PYPY3, not Python3. Make sure to change language to Pypy3 \"\n",
        "if __name__ == '__main__':\n",
        "    n = int(input())\n",
        "    integer_list = map(int, input().split())\n",
        "    t = tuple(integer_list)\n",
        "    print(hash(t));"
      ],
      "metadata": {
        "id": "DzFVB9DLcgHC"
      },
      "execution_count": null,
      "outputs": []
    },
    {
      "cell_type": "markdown",
      "source": [
        "# Q.7"
      ],
      "metadata": {
        "id": "R_US6JaNd4j3"
      }
    },
    {
      "cell_type": "code",
      "source": [
        "def average(array):\n",
        "    s=set(array)\n",
        "    return sum(s)/len(s)\n",
        "if __name__ == '__main__':\n",
        "    n = int(input())\n",
        "    arr = list(map(int, input().split()))\n",
        "    result = average(arr)\n",
        "    print(result)"
      ],
      "metadata": {
        "colab": {
          "base_uri": "https://localhost:8080/"
        },
        "id": "cWzeP1fJd2Cg",
        "outputId": "6683ac14-6b3d-4b51-f930-1a2edf8b844c"
      },
      "execution_count": null,
      "outputs": [
        {
          "output_type": "stream",
          "name": "stdout",
          "text": [
            "10\n",
            "161 182 161 154 176 170 167 171 170 174\n",
            "169.375\n"
          ]
        }
      ]
    },
    {
      "cell_type": "markdown",
      "source": [
        "# Q.8"
      ],
      "metadata": {
        "id": "LCLbbDPOevDL"
      }
    },
    {
      "cell_type": "code",
      "source": [
        "n, m = input().split()\n",
        "sc_ar = input().split()\n",
        "A = set(input().split())\n",
        "B = set(input().split())\n",
        "print (sum([(i in A) - (i in B) for i in sc_ar]))"
      ],
      "metadata": {
        "colab": {
          "base_uri": "https://localhost:8080/"
        },
        "id": "Bjxe5FUZeCTN",
        "outputId": "a698586a-8792-4ac4-e36d-b4db317201db"
      },
      "execution_count": null,
      "outputs": [
        {
          "output_type": "stream",
          "name": "stdout",
          "text": [
            "3 2\n",
            "1 5 3\n",
            "3 1\n",
            "5 7\n",
            "1\n"
          ]
        }
      ]
    },
    {
      "cell_type": "markdown",
      "source": [
        "# Q.9"
      ],
      "metadata": {
        "id": "MEj31tJufEdT"
      }
    },
    {
      "cell_type": "code",
      "source": [
        "M = int(input())\n",
        "mset = set(map(int, input().split()))\n",
        "N = int(input())\n",
        "nset = set(map(int, input().split()))\n",
        "mdef = mset.difference(nset)\n",
        "ndef = nset.difference(mset)\n",
        "output = mdef.union(ndef)\n",
        "for i in sorted(list(output)):\n",
        "    print(i)"
      ],
      "metadata": {
        "colab": {
          "base_uri": "https://localhost:8080/"
        },
        "id": "TfrHNggKe4_H",
        "outputId": "1b293efe-87dd-4e72-c4b9-59e32e6f82dd"
      },
      "execution_count": null,
      "outputs": [
        {
          "output_type": "stream",
          "name": "stdout",
          "text": [
            "4\n",
            "2 4 5 9\n",
            "4\n",
            "2 4 11 12\n",
            "5\n",
            "9\n",
            "11\n",
            "12\n"
          ]
        }
      ]
    },
    {
      "cell_type": "markdown",
      "source": [
        "# Q.10"
      ],
      "metadata": {
        "id": "cye7w7HxffNm"
      }
    },
    {
      "cell_type": "code",
      "source": [
        "N = int(input())\n",
        "countries = set()\n",
        "for i in range(N):\n",
        "    countries.add(input())\n",
        "print(len(countries))"
      ],
      "metadata": {
        "colab": {
          "base_uri": "https://localhost:8080/"
        },
        "id": "x-P9zt_qf6UH",
        "outputId": "f8cbbc2b-8239-473f-9b5c-dabaa9d76b92"
      },
      "execution_count": null,
      "outputs": [
        {
          "output_type": "stream",
          "name": "stdout",
          "text": [
            "7\n",
            "UK\n",
            "China\n",
            "USA\n",
            "France\n",
            "New Zealand\n",
            "UK\n",
            "France\n",
            "5\n"
          ]
        }
      ]
    },
    {
      "cell_type": "markdown",
      "source": [
        "Q. 11"
      ],
      "metadata": {
        "id": "ClnmXN1Yg4fa"
      }
    },
    {
      "cell_type": "code",
      "source": [
        "n = int(input())\n",
        "s = set(map(int, input().split()))\n",
        "d = {\"pop\":s.pop, \"remove\": s.remove, \"discard\": s.discard}\n",
        "for _ in range(int(input())):\n",
        "    c = input().split()\n",
        "    d[c[0]](int(c[1])) if len(c) > 1 else d[c[0]]()\n",
        "print(sum(s))"
      ],
      "metadata": {
        "colab": {
          "base_uri": "https://localhost:8080/"
        },
        "id": "3CNwbk1yhuSK",
        "outputId": "4da8b70a-1b87-45c2-c23a-a0397ffb4411"
      },
      "execution_count": null,
      "outputs": [
        {
          "output_type": "stream",
          "name": "stdout",
          "text": [
            "9\n",
            "1 2 3 4 5 6 7 8 9\n",
            "10\n",
            "pop\n",
            "remove 9\n",
            "discard 9\n",
            "discard 8\n",
            "remove 7\n",
            "pop\n",
            "discard 6\n",
            "remove 5\n",
            "pop\n",
            "discard 5\n",
            "4\n"
          ]
        }
      ]
    },
    {
      "cell_type": "markdown",
      "source": [
        "# Q.12"
      ],
      "metadata": {
        "id": "T1IR7hX1jGj0"
      }
    },
    {
      "cell_type": "code",
      "source": [
        "m = int(input())\n",
        "eng_roll = set(input().split())\n",
        "n = int(input())\n",
        "french_roll = set(input().split())\n",
        "print(len(eng_roll.union(french_roll)))"
      ],
      "metadata": {
        "colab": {
          "base_uri": "https://localhost:8080/"
        },
        "id": "lktPPawAiO8I",
        "outputId": "0c3e1722-28d3-4cf5-f48b-d453f8694cb9"
      },
      "execution_count": null,
      "outputs": [
        {
          "output_type": "stream",
          "name": "stdout",
          "text": [
            "9\n",
            "1 2 3 4 5 6 7 8 9\n",
            "9\n",
            "10 1 2 3 11 21 55 6 8\n",
            "13\n"
          ]
        }
      ]
    },
    {
      "cell_type": "markdown",
      "source": [
        "# Q.13"
      ],
      "metadata": {
        "id": "NKoeWuynjV8X"
      }
    },
    {
      "cell_type": "code",
      "source": [
        "eng_num = int(input())\n",
        "eng_set = set(map(int, input().split()))\n",
        "fren_num = int(input())\n",
        "fren_set = set(map(int, input().split()))\n",
        "print (len(eng_set.intersection(fren_set)))"
      ],
      "metadata": {
        "colab": {
          "base_uri": "https://localhost:8080/"
        },
        "id": "J2010NsojFv1",
        "outputId": "1243b84a-3ec6-43c4-ff17-189c1ef53d40"
      },
      "execution_count": null,
      "outputs": [
        {
          "output_type": "stream",
          "name": "stdout",
          "text": [
            "9\n",
            "1 2 3 4 5 6 7 8 9\n",
            "9\n",
            "10 1 2 3 11 21 55 6 8\n",
            "5\n"
          ]
        }
      ]
    },
    {
      "cell_type": "markdown",
      "source": [
        "# Q.14"
      ],
      "metadata": {
        "id": "WooTskCzj2bJ"
      }
    },
    {
      "cell_type": "code",
      "source": [
        "num1 = int(input())\n",
        "setA = set(map(int, input().split()))\n",
        "num2 = int(input())\n",
        "setB = set(map(int, input().split()))\n",
        "\n",
        "print(len(setA.difference(setB)))"
      ],
      "metadata": {
        "colab": {
          "base_uri": "https://localhost:8080/"
        },
        "id": "6OITA55Wjgqo",
        "outputId": "171207c0-b767-49a5-fa18-44ceb0c34b75"
      },
      "execution_count": null,
      "outputs": [
        {
          "output_type": "stream",
          "name": "stdout",
          "text": [
            "9\n",
            "1 2 3 4 5 6 7 8 9\n",
            "9\n",
            "10 1 2 3 11 21 55 6 8\n",
            "4\n"
          ]
        }
      ]
    },
    {
      "cell_type": "markdown",
      "source": [
        "# Q.15"
      ],
      "metadata": {
        "id": "S6KWX2ogkUux"
      }
    },
    {
      "cell_type": "code",
      "source": [
        "num1 = int(input())\n",
        "setA = set(map(int, input().split()))\n",
        "num2 = int(input())\n",
        "setB = set(map(int, input().split()))\n",
        "\n",
        "print(len(setA.symmetric_difference(setB)))"
      ],
      "metadata": {
        "colab": {
          "base_uri": "https://localhost:8080/"
        },
        "id": "XgR9g76xj6FX",
        "outputId": "8c8d1d26-7e38-468e-f29d-99996e2c0279"
      },
      "execution_count": null,
      "outputs": [
        {
          "output_type": "stream",
          "name": "stdout",
          "text": [
            "9\n",
            "1 2 3 4 5 6 7 8 9\n",
            "9\n",
            "10 1 2 3 11 21 55 6 8\n",
            "8\n"
          ]
        }
      ]
    },
    {
      "cell_type": "markdown",
      "source": [
        "# Q.16"
      ],
      "metadata": {
        "id": "0dfXbjJlmJuV"
      }
    },
    {
      "cell_type": "code",
      "source": [
        "len_set = int(input())\n",
        "H = set(map(int,input().split()))\n",
        "N = int(input())\n",
        "for i in range(N):\n",
        "    R = input().split()\n",
        "    Rtemp = set(map(int,input().split()))\n",
        "    if R[0] == 'update':\n",
        "        H.update(Rtemp)\n",
        "    elif R[0] == 'intersection_update':\n",
        "        H.intersection_update(Rtemp)\n",
        "    elif R[0] == 'difference_update':\n",
        "        H.difference_update(Rtemp)\n",
        "    elif R[0] == 'symmetric_difference_update':\n",
        "        H.symmetric_difference_update(Rtemp)\n",
        "    else:\n",
        "        print ('Incorrect parameters')\n",
        "print(sum(H))"
      ],
      "metadata": {
        "colab": {
          "base_uri": "https://localhost:8080/"
        },
        "id": "tQ-WonjhkTgE",
        "outputId": "3817cd85-a909-4c9a-885a-7f4ab127c0be"
      },
      "execution_count": null,
      "outputs": [
        {
          "output_type": "stream",
          "name": "stdout",
          "text": [
            "16\n",
            "1 2 3 4 5 6 7 8 9 10 11 12 13 14 24 52\n",
            "4\n",
            "intersection_update 10\n",
            "2 3 5 6 8 9 1 4 7 11\n",
            "update 2\n",
            "55 66\n",
            "symmetric_difference_update 5\n",
            "22 7 35 62 58\n",
            "difference_update 7\n",
            "11 22 35 55 58 62 66\n",
            "38\n"
          ]
        }
      ]
    },
    {
      "cell_type": "markdown",
      "source": [
        "# Q.17"
      ],
      "metadata": {
        "id": "rsnhBM-6mHvX"
      }
    },
    {
      "cell_type": "code",
      "source": [
        "N = int(input())\n",
        "storage = map(int, input().split())\n",
        "storage = sorted(storage)\n",
        "for i in range(len(storage)):\n",
        "    if(i != len(storage)-1):\n",
        "        if(storage[i]!=storage[i-1] and storage[i]!=storage[i+1]):\n",
        "            print(storage[i])\n",
        "            break;\n",
        "    else:\n",
        "        print(storage[i])"
      ],
      "metadata": {
        "colab": {
          "base_uri": "https://localhost:8080/"
        },
        "id": "LNkAJUhBlLT1",
        "outputId": "ef19ccec-bcbf-4b99-b470-eac6a664e27b"
      },
      "execution_count": null,
      "outputs": [
        {
          "output_type": "stream",
          "name": "stdout",
          "text": [
            "5\n",
            "1 2 3 6 5 4 4 2 5 3 6 1 6 5 3 2 4 1 2 5 1 4 3 6 8 4 3 1 5 6 2 \n",
            "8\n"
          ]
        }
      ]
    },
    {
      "cell_type": "markdown",
      "source": [
        "# Q.18"
      ],
      "metadata": {
        "id": "_eFdAd5MnJlV"
      }
    },
    {
      "cell_type": "code",
      "source": [
        "for i in range(int(input())):\n",
        "    A = int(input())\n",
        "    set_A = set(map(int, input().split()))\n",
        "    B = int(input())\n",
        "    set_B = set(map(int, input().split()))\n",
        "    if len(set_A - set_B) == 0:\n",
        "        print(\"True\")\n",
        "    else:\n",
        "        print(\"False\")"
      ],
      "metadata": {
        "colab": {
          "base_uri": "https://localhost:8080/"
        },
        "id": "9LoqUEi_mgj8",
        "outputId": "ec90bb82-65c0-49e8-af99-2a605077fcd2"
      },
      "execution_count": null,
      "outputs": [
        {
          "output_type": "stream",
          "name": "stdout",
          "text": [
            "3\n",
            "5\n",
            "1 2 3 5 6 \n",
            "9\n",
            "9 8 5 6 3 2 1 4 7\n",
            "True\n",
            "1\n",
            "2\n",
            "5\n",
            "3 6 5 4 1\n",
            "False\n",
            "7\n",
            "1 2 3 5 6 8 9\n",
            "3\n",
            "9 8 2\n",
            "False\n"
          ]
        }
      ]
    },
    {
      "cell_type": "markdown",
      "source": [
        "# Q.19"
      ],
      "metadata": {
        "id": "u2qArdSZn3Q8"
      }
    },
    {
      "cell_type": "code",
      "source": [
        "A = set(input().split())\n",
        "N = int(input())\n",
        "output = True\n",
        "for i in range(N):\n",
        "    A2 = set(input().split())\n",
        "    if not A2.issubset(A):\n",
        "        output = False\n",
        "    if len(A2) >= len(A):\n",
        "        output = False\n",
        "print(output)"
      ],
      "metadata": {
        "colab": {
          "base_uri": "https://localhost:8080/"
        },
        "id": "vy6qRNbdnXUa",
        "outputId": "597fde4f-9ff0-41af-c90c-bbcb0be8174e"
      },
      "execution_count": null,
      "outputs": [
        {
          "output_type": "stream",
          "name": "stdout",
          "text": [
            "1 2 3 4 5 6 7 8 9 10 11 12 23 45 84 78\n",
            "2\n",
            "1 2 3 4 5\n",
            "100 11 12\n",
            "False\n"
          ]
        }
      ]
    }
  ]
}