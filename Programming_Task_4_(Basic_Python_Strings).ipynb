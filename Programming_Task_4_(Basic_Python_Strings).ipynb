{
  "nbformat": 4,
  "nbformat_minor": 0,
  "metadata": {
    "colab": {
      "provenance": []
    },
    "kernelspec": {
      "name": "python3",
      "display_name": "Python 3"
    },
    "language_info": {
      "name": "python"
    }
  },
  "cells": [
    {
      "cell_type": "markdown",
      "source": [
        "# Q.1"
      ],
      "metadata": {
        "id": "ddX-LwFuCuYI"
      }
    },
    {
      "cell_type": "code",
      "source": [
        "def swap_case(s):\n",
        "    return s.swapcase()\n",
        "if __name__ == '__main__':\n",
        "    s = input()\n",
        "    result = swap_case(s)\n",
        "    print(result)"
      ],
      "metadata": {
        "colab": {
          "base_uri": "https://localhost:8080/"
        },
        "id": "D5jtHb4SCx7p",
        "outputId": "9a773bc9-d219-4efa-c06a-ec559138b5be"
      },
      "execution_count": 2,
      "outputs": [
        {
          "output_type": "stream",
          "name": "stdout",
          "text": [
            "HackerRank.com presents \"Pythonist 2\".\n",
            "hACKERrANK.COM PRESENTS \"pYTHONIST 2\".\n"
          ]
        }
      ]
    },
    {
      "cell_type": "markdown",
      "source": [
        "# Q.2"
      ],
      "metadata": {
        "id": "kbkLzL-hanxa"
      }
    },
    {
      "cell_type": "code",
      "source": [
        "def split_and_join(line):\n",
        "    a = line.split(\" \")\n",
        "    a = \"-\".join(a)\n",
        "    return a\n",
        "\n",
        "line = input()\n",
        "result = split_and_join(line)\n",
        "print(result)"
      ],
      "metadata": {
        "colab": {
          "base_uri": "https://localhost:8080/"
        },
        "id": "_gbk8YyEamyk",
        "outputId": "623b2b37-5f59-4c79-dcd4-9457730cd82b"
      },
      "execution_count": 3,
      "outputs": [
        {
          "output_type": "stream",
          "name": "stdout",
          "text": [
            "this is a string\n",
            "this-is-a-string\n"
          ]
        }
      ]
    },
    {
      "cell_type": "markdown",
      "source": [
        "# Q.3"
      ],
      "metadata": {
        "id": "wOn3eLkcd-v0"
      }
    },
    {
      "cell_type": "code",
      "source": [
        "def print_full_name(first, last):\n",
        "    print(f\"Hello {first} {last}! You just delved into python.\") \n",
        "if __name__ == '__main__':\n",
        "    first_name = input()\n",
        "    last_name = input()\n",
        "    print_full_name(first_name, last_name)"
      ],
      "metadata": {
        "colab": {
          "base_uri": "https://localhost:8080/"
        },
        "id": "hExXf6imZ2zu",
        "outputId": "41a364e5-517f-4283-d9e3-c73edd203047"
      },
      "execution_count": 4,
      "outputs": [
        {
          "output_type": "stream",
          "name": "stdout",
          "text": [
            "Ross\n",
            "Taylor\n",
            "Hello Ross Taylor! You just delved into python.\n"
          ]
        }
      ]
    },
    {
      "cell_type": "markdown",
      "source": [
        "# Q.4"
      ],
      "metadata": {
        "id": "PQdXjdzTe0S9"
      }
    },
    {
      "cell_type": "code",
      "source": [
        "def mutate_string(string, position, character):\n",
        "        n = list(string)\n",
        "        n[position] = character\n",
        "        string = \"\".join(n)\n",
        "        return string\n",
        "if __name__ == '__main__':\n",
        "    s = input()\n",
        "    i, c = input().split()\n",
        "    s_new = mutate_string(s, int(i), c)\n",
        "    print(s_new)"
      ],
      "metadata": {
        "colab": {
          "base_uri": "https://localhost:8080/"
        },
        "id": "BtOpb-7Zei7k",
        "outputId": "df4d71bc-4858-4a38-d440-d534b3776dcc"
      },
      "execution_count": 5,
      "outputs": [
        {
          "output_type": "stream",
          "name": "stdout",
          "text": [
            "abracadabra\n",
            "5 k\n",
            "abrackdabra\n"
          ]
        }
      ]
    },
    {
      "cell_type": "markdown",
      "source": [
        "# Q.5"
      ],
      "metadata": {
        "id": "40gQA7MnjCje"
      }
    },
    {
      "cell_type": "code",
      "source": [
        "def count_substring(string, sub_string):\n",
        "    count = 0\n",
        "    for i in range(len(string)-len(sub_string)+1):\n",
        "        if (string[i:i+len(sub_string)] == sub_string):\n",
        "            count += 1\n",
        "    return count\n",
        "if __name__ == '__main__':\n",
        "    string = input().strip()\n",
        "    sub_string = input().strip()\n",
        "    \n",
        "    count = count_substring(string, sub_string)\n",
        "    print(count)"
      ],
      "metadata": {
        "colab": {
          "base_uri": "https://localhost:8080/"
        },
        "id": "-eVc09jmi1vO",
        "outputId": "c365a1c4-8034-4a9b-8106-ea73dfb5d820"
      },
      "execution_count": 6,
      "outputs": [
        {
          "output_type": "stream",
          "name": "stdout",
          "text": [
            "ABCDCDC\n",
            "CDC\n",
            "2\n"
          ]
        }
      ]
    },
    {
      "cell_type": "markdown",
      "source": [
        "# Q.6"
      ],
      "metadata": {
        "id": "WXmXqaTAlmTw"
      }
    },
    {
      "cell_type": "code",
      "source": [
        "if __name__ == '__main__':\n",
        "        s = input()\n",
        "        print(any(map(str.isalnum, s)))\n",
        "        print(any(map(str.isalpha, s)))\n",
        "        print(any(map(str.isdigit, s)))\n",
        "        print(any(map(str.islower, s)))\n",
        "        print(any(map(str.isupper, s)))"
      ],
      "metadata": {
        "colab": {
          "base_uri": "https://localhost:8080/"
        },
        "id": "F8JuV83Rld6P",
        "outputId": "a750ffc2-66e3-438c-9dc9-ac16f51b22e8"
      },
      "execution_count": 9,
      "outputs": [
        {
          "output_type": "stream",
          "name": "stdout",
          "text": [
            "qA2\n",
            "True\n",
            "True\n",
            "True\n",
            "True\n",
            "True\n"
          ]
        }
      ]
    },
    {
      "cell_type": "markdown",
      "source": [
        "# Q.7"
      ],
      "metadata": {
        "id": "iztr4JKio2el"
      }
    },
    {
      "cell_type": "code",
      "source": [
        "thickness = int(input()) #This must be an odd number\n",
        "c = 'H'\n",
        "\n",
        "#Top Cone\n",
        "for i in range(thickness):\n",
        "    print((c*i).rjust(thickness-1)+c+(c*i).ljust(thickness-1))\n",
        "\n",
        "#Top Pillars\n",
        "for i in range(thickness+1):\n",
        "    print((c*thickness).center(thickness*2)+(c*thickness).center(thickness*6))\n",
        "\n",
        "#Middle Belt\n",
        "for i in range((thickness+1)//2):\n",
        "    print((c*thickness*5).center(thickness*6))    \n",
        "\n",
        "#Bottom Pillars\n",
        "for i in range(thickness+1):\n",
        "    print((c*thickness).center(thickness*2)+(c*thickness).center(thickness*6))    \n",
        "\n",
        "#Bottom Cone\n",
        "for i in range(thickness):\n",
        "    print(((c*(thickness-i-1)).rjust(thickness)+c+(c*(thickness-i-1)).ljust(thickness)).rjust(thickness*6))"
      ],
      "metadata": {
        "colab": {
          "base_uri": "https://localhost:8080/"
        },
        "id": "rS90sAG_omwH",
        "outputId": "be3b8c8f-a95a-4ba1-e90d-e6fb6dd313bf"
      },
      "execution_count": 10,
      "outputs": [
        {
          "output_type": "stream",
          "name": "stdout",
          "text": [
            "5\n",
            "    H    \n",
            "   HHH   \n",
            "  HHHHH  \n",
            " HHHHHHH \n",
            "HHHHHHHHH\n",
            "  HHHHH               HHHHH             \n",
            "  HHHHH               HHHHH             \n",
            "  HHHHH               HHHHH             \n",
            "  HHHHH               HHHHH             \n",
            "  HHHHH               HHHHH             \n",
            "  HHHHH               HHHHH             \n",
            "  HHHHHHHHHHHHHHHHHHHHHHHHH   \n",
            "  HHHHHHHHHHHHHHHHHHHHHHHHH   \n",
            "  HHHHHHHHHHHHHHHHHHHHHHHHH   \n",
            "  HHHHH               HHHHH             \n",
            "  HHHHH               HHHHH             \n",
            "  HHHHH               HHHHH             \n",
            "  HHHHH               HHHHH             \n",
            "  HHHHH               HHHHH             \n",
            "  HHHHH               HHHHH             \n",
            "                    HHHHHHHHH \n",
            "                     HHHHHHH  \n",
            "                      HHHHH   \n",
            "                       HHH    \n",
            "                        H     \n"
          ]
        }
      ]
    },
    {
      "cell_type": "markdown",
      "source": [
        "# Q.8"
      ],
      "metadata": {
        "id": "O6pI2gKdtg8T"
      }
    },
    {
      "cell_type": "code",
      "source": [
        "import textwrap\n",
        "\n",
        "def wrap(string, max_width):\n",
        "        for i in range(0,len(string)+1,max_width):\n",
        "            result = string[i:i+max_width]\n",
        "            if len(result) == max_width:\n",
        "               print(result)\n",
        "            else:\n",
        "               return(result)  \n",
        "\n",
        "if __name__ == '__main__':\n",
        "    string, max_width = input(), int(input())\n",
        "    result = wrap(string, max_width)\n",
        "    print(result)"
      ],
      "metadata": {
        "colab": {
          "base_uri": "https://localhost:8080/"
        },
        "id": "cOpL-W0ar6rY",
        "outputId": "e4cae040-c85e-42e7-df84-6f381038706f"
      },
      "execution_count": 11,
      "outputs": [
        {
          "output_type": "stream",
          "name": "stdout",
          "text": [
            "ABCDEFGHIJKLIMNOQRSTUVWXYZ\n",
            "4\n",
            "ABCD\n",
            "EFGH\n",
            "IJKL\n",
            "IMNO\n",
            "QRST\n",
            "UVWX\n",
            "YZ\n"
          ]
        }
      ]
    },
    {
      "cell_type": "markdown",
      "source": [
        "# Q.9"
      ],
      "metadata": {
        "id": "5bgFFuWatzjK"
      }
    },
    {
      "cell_type": "code",
      "source": [
        "N, M = map(int, input().split())\n",
        "for i in range(1, N, 2):\n",
        "    print(str('.|.' * i).center(M, '-'))\n",
        "print('WELCOME'.center(M, '-'))\n",
        "for i in range(N-2, -1, -2):\n",
        "    print(str('.|.' * i).center(M, '-'))"
      ],
      "metadata": {
        "colab": {
          "base_uri": "https://localhost:8080/"
        },
        "id": "3PtHx8xktkEJ",
        "outputId": "71cd7f69-8987-4e3a-d556-6e757e54d937"
      },
      "execution_count": 12,
      "outputs": [
        {
          "output_type": "stream",
          "name": "stdout",
          "text": [
            "7 21\n",
            "---------.|.---------\n",
            "------.|..|..|.------\n",
            "---.|..|..|..|..|.---\n",
            "-------WELCOME-------\n",
            "---.|..|..|..|..|.---\n",
            "------.|..|..|.------\n",
            "---------.|.---------\n"
          ]
        }
      ]
    },
    {
      "cell_type": "markdown",
      "source": [
        "# Q. 10"
      ],
      "metadata": {
        "id": "gDCFQjuEuEBo"
      }
    },
    {
      "cell_type": "code",
      "source": [
        "def print_formatted(number):\n",
        "        width = len(\"{0:b}\".format(number))\n",
        "\n",
        "        for i in range(1, number + 1):\n",
        "            print(\"{0:{w}d} {0:{w}o} {0:{w}X} {0:{w}b}\".format(i, w = width))\n",
        "    # your code goes here\n",
        "\n",
        "if __name__ == '__main__':\n",
        "    n = int(input())\n",
        "    print_formatted(n)"
      ],
      "metadata": {
        "colab": {
          "base_uri": "https://localhost:8080/"
        },
        "id": "PuNOFrcjt9s5",
        "outputId": "76b6ca9c-92d8-4e69-b973-8afc7b6b1905"
      },
      "execution_count": 13,
      "outputs": [
        {
          "output_type": "stream",
          "name": "stdout",
          "text": [
            "2\n",
            " 1  1  1  1\n",
            " 2  2  2 10\n"
          ]
        }
      ]
    },
    {
      "cell_type": "markdown",
      "source": [
        "# Q.11"
      ],
      "metadata": {
        "id": "pPFuRFqBvU7X"
      }
    },
    {
      "cell_type": "code",
      "source": [
        "def print_rangoli(size):\n",
        "    # your code goes here\n",
        "    import string\n",
        "    design = string.ascii_lowercase\n",
        "    L = []\n",
        "    for i in range(n):\n",
        "        s = \"-\".join(design[i:n])\n",
        "        L.append((s[::-1]+s[1:]).center(4*n-3, \"-\"))\n",
        "        \n",
        "    print('\\n'.join(L[:0:-1]+L))\n",
        "\n",
        "if __name__ == '__main__':\n",
        "    n = int(input())\n",
        "    print_rangoli(n)"
      ],
      "metadata": {
        "colab": {
          "base_uri": "https://localhost:8080/"
        },
        "id": "E46vnzrnvLow",
        "outputId": "e580e1ba-8156-46c0-af4a-68867d3b4e41"
      },
      "execution_count": 14,
      "outputs": [
        {
          "output_type": "stream",
          "name": "stdout",
          "text": [
            "5\n",
            "--------e--------\n",
            "------e-d-e------\n",
            "----e-d-c-d-e----\n",
            "--e-d-c-b-c-d-e--\n",
            "e-d-c-b-a-b-c-d-e\n",
            "--e-d-c-b-c-d-e--\n",
            "----e-d-c-d-e----\n",
            "------e-d-e------\n",
            "--------e--------\n"
          ]
        }
      ]
    },
    {
      "cell_type": "markdown",
      "source": [
        "# Q.12"
      ],
      "metadata": {
        "id": "kLFKRcrFv6tA"
      }
    },
    {
      "cell_type": "code",
      "source": [
        "import os\n",
        "\n",
        "def solve(s):\n",
        "\n",
        "    for x in s[:].split():\n",
        "        s = s.replace(x, x.capitalize())\n",
        "    return s\n",
        "\n",
        "s = input()\n",
        "result = solve(s)\n",
        "print(result + '\\n')"
      ],
      "metadata": {
        "colab": {
          "base_uri": "https://localhost:8080/"
        },
        "id": "x0BTuz82zVnU",
        "outputId": "f17d9d57-db75-4eca-e63c-961b932b0ec7"
      },
      "execution_count": 23,
      "outputs": [
        {
          "output_type": "stream",
          "name": "stdout",
          "text": [
            "hello world\n",
            "Hello World\n",
            "\n"
          ]
        }
      ]
    },
    {
      "cell_type": "markdown",
      "source": [
        "# Q.13"
      ],
      "metadata": {
        "id": "X60PidUr0GIg"
      }
    },
    {
      "cell_type": "code",
      "source": [
        "def minion_game(string):\n",
        "        s=len(string)\n",
        "        vowel = 0\n",
        "        consonant = 0\n",
        "     \n",
        "        for i in range(s):\n",
        "            if string[i] in 'AEIOU':\n",
        "               vowel+=(s-i)\n",
        "            else:\n",
        "               consonant+=(s-i)\n",
        "                               \n",
        "        if vowel < consonant:\n",
        "           print('Stuart ' + str(consonant))\n",
        "        elif vowel > consonant:\n",
        "           print('Kevin ' + str(vowel))\n",
        "        else:\n",
        "           print('Draw')\n",
        "                \n",
        "    # your code goes here\n",
        "\n",
        "if __name__ == '__main__':\n",
        "    s = input()\n",
        "    minion_game(s)"
      ],
      "metadata": {
        "colab": {
          "base_uri": "https://localhost:8080/"
        },
        "id": "ssrlCMt3zpOJ",
        "outputId": "033295f6-f1e7-4406-a365-8634584bc093"
      },
      "execution_count": 24,
      "outputs": [
        {
          "output_type": "stream",
          "name": "stdout",
          "text": [
            "BANANA\n",
            "Stuart 12\n"
          ]
        }
      ]
    },
    {
      "cell_type": "markdown",
      "source": [
        "# Q.14"
      ],
      "metadata": {
        "id": "s0WK_UW31X6W"
      }
    },
    {
      "cell_type": "code",
      "source": [
        "def merge_the_tools(string, k):\n",
        "    # your code goes here\n",
        "    temp = []\n",
        "    len_temp = 0\n",
        "    for item in string:\n",
        "        len_temp += 1\n",
        "        if item not in temp:\n",
        "            temp.append(item)\n",
        "        if len_temp == k:\n",
        "            print (''.join(temp))\n",
        "            temp = []\n",
        "            len_temp = 0\n",
        "\n",
        "if __name__ == '__main__':\n",
        "    string, k = input(), int(input())\n",
        "    merge_the_tools(string, k)"
      ],
      "metadata": {
        "colab": {
          "base_uri": "https://localhost:8080/"
        },
        "id": "JrjinVkB1SR2",
        "outputId": "f78c86ff-c484-4058-dae5-b5fc8de8d186"
      },
      "execution_count": 25,
      "outputs": [
        {
          "output_type": "stream",
          "name": "stdout",
          "text": [
            "AABCAAADA\n",
            "3\n",
            "AB\n",
            "CA\n",
            "AD\n"
          ]
        }
      ]
    }
  ]
}