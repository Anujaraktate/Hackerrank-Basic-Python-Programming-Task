{
  "nbformat": 4,
  "nbformat_minor": 0,
  "metadata": {
    "colab": {
      "provenance": []
    },
    "kernelspec": {
      "name": "python3",
      "display_name": "Python 3"
    },
    "language_info": {
      "name": "python"
    }
  },
  "cells": [
    {
      "cell_type": "markdown",
      "source": [
        "# Q.1"
      ],
      "metadata": {
        "id": "tlNQZJI0-RNn"
      }
    },
    {
      "cell_type": "code",
      "source": [
        "import cmath;\n",
        "num = complex(input())\n",
        "z = complex(num)\n",
        "print(cmath.polar(z)[0])\n",
        "print(cmath.polar(z)[1])"
      ],
      "metadata": {
        "colab": {
          "base_uri": "https://localhost:8080/"
        },
        "id": "DwnU70gg-Tur",
        "outputId": "bba77021-6c9c-4b6d-a0b6-c6f017d245f6"
      },
      "execution_count": 1,
      "outputs": [
        {
          "output_type": "stream",
          "name": "stdout",
          "text": [
            "1+2j\n",
            "2.23606797749979\n",
            "1.1071487177940904\n"
          ]
        }
      ]
    },
    {
      "cell_type": "markdown",
      "source": [
        "# Q.2"
      ],
      "metadata": {
        "id": "xdYUhrF--stS"
      }
    },
    {
      "cell_type": "code",
      "source": [
        "import math\n",
        "a = int(input())\n",
        "b = int(input())\n",
        "M = math.sqrt(a**2+b**2)\n",
        "theta = math.acos(b/M )\n",
        "print(int(round(math.degrees(theta),0)),'\\u00B0',sep='')"
      ],
      "metadata": {
        "colab": {
          "base_uri": "https://localhost:8080/"
        },
        "id": "cSMsLiUR-bqz",
        "outputId": "f600e84d-56f0-4341-a454-9415a6752bb7"
      },
      "execution_count": 2,
      "outputs": [
        {
          "output_type": "stream",
          "name": "stdout",
          "text": [
            "10\n",
            "10\n",
            "45°\n"
          ]
        }
      ]
    },
    {
      "cell_type": "markdown",
      "source": [
        "# Q.3"
      ],
      "metadata": {
        "id": "wU24Gftd_IPo"
      }
    },
    {
      "cell_type": "code",
      "source": [
        "for i in range(1, int(input()) + 1): \n",
        "    print((10 ** i - 1) ** 2 // 81)"
      ],
      "metadata": {
        "colab": {
          "base_uri": "https://localhost:8080/"
        },
        "id": "K2-L3s1v-5-p",
        "outputId": "b8427faa-b01c-4d6f-b203-471c2296beb6"
      },
      "execution_count": 3,
      "outputs": [
        {
          "output_type": "stream",
          "name": "stdout",
          "text": [
            "5\n",
            "1\n",
            "121\n",
            "12321\n",
            "1234321\n",
            "123454321\n"
          ]
        }
      ]
    },
    {
      "cell_type": "markdown",
      "source": [
        "# Q.4"
      ],
      "metadata": {
        "id": "D0Pted2n_dTL"
      }
    },
    {
      "cell_type": "code",
      "source": [
        "a = int(input());\n",
        "b = int(input());\n",
        "print(a//b);\n",
        "print(a%b);\n",
        "print(divmod(a,b));"
      ],
      "metadata": {
        "colab": {
          "base_uri": "https://localhost:8080/"
        },
        "id": "54s1-Lga_LCb",
        "outputId": "a6af93e8-f0c5-42bf-ae69-73e5c5adda32"
      },
      "execution_count": 4,
      "outputs": [
        {
          "output_type": "stream",
          "name": "stdout",
          "text": [
            "177\n",
            "10\n",
            "17\n",
            "7\n",
            "(17, 7)\n"
          ]
        }
      ]
    },
    {
      "cell_type": "markdown",
      "source": [
        "# Q.5"
      ],
      "metadata": {
        "id": "Y9fAN2Ts_m5Y"
      }
    },
    {
      "cell_type": "code",
      "source": [
        "a = int(input())\n",
        "b = int(input())\n",
        "m = int(input())\n",
        "print(pow(a,b))\n",
        "print(pow(a,b,m))"
      ],
      "metadata": {
        "colab": {
          "base_uri": "https://localhost:8080/"
        },
        "id": "Wxtws74T_fYy",
        "outputId": "7851e458-38e0-4f25-97a2-0abb17fee668"
      },
      "execution_count": 5,
      "outputs": [
        {
          "output_type": "stream",
          "name": "stdout",
          "text": [
            "3\n",
            "4\n",
            "5\n",
            "81\n",
            "1\n"
          ]
        }
      ]
    },
    {
      "cell_type": "markdown",
      "source": [
        "# Q.6"
      ],
      "metadata": {
        "id": "uuKD0QeuAlZR"
      }
    },
    {
      "cell_type": "code",
      "source": [
        "A = int(input())\n",
        "B = int(input())\n",
        "C = int(input())\n",
        "D = int(input())\n",
        "print((A**B)+(C**D))"
      ],
      "metadata": {
        "colab": {
          "base_uri": "https://localhost:8080/"
        },
        "id": "EcBRYkw4AHRC",
        "outputId": "b3a43169-8380-4c9d-f14b-69e9ff359b19"
      },
      "execution_count": 6,
      "outputs": [
        {
          "output_type": "stream",
          "name": "stdout",
          "text": [
            "9\n",
            "29\n",
            "7\n",
            "29\n",
            "4713348603002058014648441296\n"
          ]
        }
      ]
    },
    {
      "cell_type": "markdown",
      "source": [
        "# Q.7"
      ],
      "metadata": {
        "id": "wXVBehQgA5ZQ"
      }
    },
    {
      "cell_type": "code",
      "source": [
        "for i in range(1,int(input())):\n",
        "    print(i*((10**i-1)//9))"
      ],
      "metadata": {
        "colab": {
          "base_uri": "https://localhost:8080/"
        },
        "id": "dnSljn3KAqbi",
        "outputId": "ef29e9c0-076f-4335-a4f4-02101a068fcf"
      },
      "execution_count": 7,
      "outputs": [
        {
          "output_type": "stream",
          "name": "stdout",
          "text": [
            "5\n",
            "1\n",
            "22\n",
            "333\n",
            "4444\n"
          ]
        }
      ]
    }
  ]
}